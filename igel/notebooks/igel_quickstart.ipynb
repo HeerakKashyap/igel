{
 "cells": [
  {
   "cell_type": "markdown",
   "metadata": {},
   "source": [
    "# igel Quickstart Tutorial\n",
    "\n",
    "Welcome! This notebook will walk you through a basic igel workflow: loading data, configuring a model, training, and evaluating."
   ]
  },
  {
   "cell_type": "code",
   "execution_count": null,
   "metadata": {
    "vscode": {
     "languageId": "plaintext"
    }
   },
   "outputs": [],
   "source": [
    "!pip install igel"
   ]
  },
  {
   "cell_type": "code",
   "execution_count": null,
   "metadata": {
    "vscode": {
     "languageId": "plaintext"
    }
   },
   "outputs": [],
   "source": [
    "import pandas as pd\n",
    "\n",
    "# Create a simple dataset\n",
    "df = pd.DataFrame({\n",
    "    \"feature1\": [1, 2, 3, 4, 5],\n",
    "    \"feature2\": [5, 4, 3, 2, 1],\n",
    "    \"label\": [0, 1, 0, 1, 0]\n",
    "})\n",
    "df.to_csv(\"train.csv\", index=False)"
   ]
  },
  {
   "cell_type": "code",
   "execution_count": null,
   "metadata": {
    "vscode": {
     "languageId": "plaintext"
    }
   },
   "outputs": [],
   "source": [
    "config = \"\"\"\n",
    "input: train.csv\n",
    "target: label\n",
    "model:\n",
    "  type: classification\n",
    "  algorithm: RandomForestClassifier\n",
    "  params:\n",
    "    n_estimators: 10\n",
    "    max_depth: 3\n",
    "\"\"\"\n",
    "with open(\"config.yaml\", \"w\") as f:\n",
    "    f.write(config)"
   ]
  },
  {
   "cell_type": "code",
   "execution_count": null,
   "metadata": {
    "vscode": {
     "languageId": "plaintext"
    }
   },
   "outputs": [],
   "source": [
    "!igel fit --data_path=train.csv --yaml_path=config.yaml"
   ]
  },
  {
   "cell_type": "code",
   "execution_count": null,
   "metadata": {
    "vscode": {
     "languageId": "plaintext"
    }
   },
   "outputs": [],
   "source": [
    "# You can add more cells to show evaluation or prediction steps as needed."
   ]
  }
 ],
 "metadata": {
  "language_info": {
   "name": "python"
  }
 },
 "nbformat": 4,
 "nbformat_minor": 2
}
